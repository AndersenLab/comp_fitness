{
 "cells": [
  {
   "cell_type": "code",
   "execution_count": 2,
   "metadata": {},
   "outputs": [],
   "source": [
    "import pandas as pd\n",
    "import numpy as np"
   ]
  },
  {
   "attachments": {},
   "cell_type": "markdown",
   "metadata": {},
   "source": [
    "The data file has multiple sheets with different data formats \n",
    "- <strain>_ddpcr_data: contains the raw data from the ddPCR machine?\n",
    "- <strain>: Each row is an experiment\n",
    "    ex) row 1 is the first generation for that strain in condition D (DMSO), and the coulns are the technical replicates. "
   ]
  },
  {
   "attachments": {},
   "cell_type": "markdown",
   "metadata": {},
   "source": [
    "Read in the data file "
   ]
  },
  {
   "cell_type": "code",
   "execution_count": 12,
   "metadata": {},
   "outputs": [],
   "source": [
    "#data_file = '/Users/lijiang/Downloads/clay_original_results/clay_results_summary.xlsx'\n",
    "data_file = 'S14.xlsx'\n",
    "#read in the data in the 4th sheet of the excel file - 0 indexed\n",
    "data = pd.read_excel(data_file,sheet_name=6,index_col=False)\n",
    "#Get the number of rows and columns\n",
    "rows,cols = data.shape"
   ]
  },
  {
   "cell_type": "code",
   "execution_count": 9,
   "metadata": {},
   "outputs": [
    {
     "name": "stdout",
     "output_type": "stream",
     "text": [
      "8 12\n"
     ]
    }
   ],
   "source": [
    "print(rows,cols)"
   ]
  },
  {
   "attachments": {},
   "cell_type": "markdown",
   "metadata": {},
   "source": [
    "For each column the script `clay_fitness.py` executes the function `col_finess()` over that column. Let's get a single example column to see what it does."
   ]
  },
  {
   "cell_type": "code",
   "execution_count": 13,
   "metadata": {},
   "outputs": [
    {
     "data": {
      "text/plain": [
       "range(0, 12)"
      ]
     },
     "execution_count": 13,
     "metadata": {},
     "output_type": "execute_result"
    }
   ],
   "source": [
    "range(cols)"
   ]
  },
  {
   "cell_type": "code",
   "execution_count": 13,
   "metadata": {},
   "outputs": [
    {
     "name": "stdout",
     "output_type": "stream",
     "text": [
      "0    0.501814\n",
      "1    0.576682\n",
      "2    0.505882\n",
      "3    0.526523\n",
      "4    0.533529\n",
      "5    0.507594\n",
      "6    0.553981\n",
      "7    0.515117\n",
      "Name: replicate_2, dtype: float64\n"
     ]
    }
   ],
   "source": [
    "#pull a single column from the data frame\n",
    "# data = pd.read_excel('claytest.xlsx',sheet_name=1,index_col=False)\n",
    "column = data.iloc[:,3]\n",
    "print(column)"
   ]
  },
  {
   "cell_type": "code",
   "execution_count": 14,
   "metadata": {},
   "outputs": [],
   "source": [
    "def col_fitness(column):\n",
    "    array_len = len(column)\n",
    "    array1=[]\n",
    "    array2=[]\n",
    "    x1 = []\n",
    "    x2 = []\n",
    "    xs = [0,2,4,6]\n",
    "    for i in range(array_len):\n",
    "        if column[i] == -1:\n",
    "            continue\n",
    "        if i%2 == 0:\n",
    "            array1.append(column[i])\n",
    "            x1.append(xs[i//2])\n",
    "        else:\n",
    "            array2.append(column[i])\n",
    "            x2.append(xs[i//2])\n",
    "        \n",
    "    xs = [x1,x2]\n",
    "    for i,x in enumerate(xs):\n",
    "        xs[i] = np.array(xs[i])\n",
    "        xs[i] = xs[i][:,np.newaxis]\n",
    "    arrays = [array1,array2]\n",
    "    fitness = []\n",
    "    for i,array in enumerate(arrays):\n",
    "        if 'NULL' in array:\n",
    "            fitness.append('NULL')\n",
    "        else:\n",
    "            first_point = array[0]\n",
    "            ys = []\n",
    "            for point in array:\n",
    "                y = np.log10((first_point/point - first_point)/(1-first_point))\n",
    "                ys.append(y)\n",
    "            ys = np.array(ys)\n",
    "            (a, _, _, _) = np.linalg.lstsq(xs[i], ys)\n",
    "            fitness.append(np.log2(1/np.power(10,a[0])))\n",
    "    return fitness\n"
   ]
  },
  {
   "cell_type": "code",
   "execution_count": 18,
   "metadata": {},
   "outputs": [
    {
     "name": "stderr",
     "output_type": "stream",
     "text": [
      "/var/folders/h4/rcl4wl655lb_99254fkp0_6r0000gn/T/ipykernel_32104/270481550.py:34: FutureWarning: `rcond` parameter will change to the default of machine precision times ``max(M, N)`` where M and N are the input matrix dimensions.\n",
      "To use the future default and silence this warning we advise to pass `rcond=None`, to keep using the old, explicitly pass `rcond=-1`.\n",
      "  (a, _, _, _) = np.linalg.lstsq(xs[i], ys)\n"
     ]
    },
    {
     "data": {
      "text/plain": [
       "[0.0023700349740701926, -0.02251498448589777]"
      ]
     },
     "execution_count": 18,
     "metadata": {},
     "output_type": "execute_result"
    }
   ],
   "source": [
    "col_fitness(column)"
   ]
  },
  {
   "cell_type": "code",
   "execution_count": 15,
   "metadata": {},
   "outputs": [],
   "source": [
    "array_len = len(column)\n",
    "array1=[]\n",
    "array2=[]\n",
    "\n",
    "x1 = []\n",
    "x2 = []\n",
    "\n",
    "#Index of control conditons for the row\n",
    "xs = [0,2,4,6]"
   ]
  },
  {
   "cell_type": "code",
   "execution_count": 16,
   "metadata": {},
   "outputs": [],
   "source": [
    "for i in range(array_len):\n",
    "        #If the at last row, skip\n",
    "        if column[i] == -1:\n",
    "            continue\n",
    "        #If the column is even, add to array1 and x1\n",
    "        if i%2 == 0:\n",
    "            #Add a replicates AF for all control contions to array1 for generation 1->7  \n",
    "            array1.append(column[i])\n",
    "            #Divide the row\n",
    "            x1.append(xs[i//2])\n",
    "        #IF the column is odd, add to array2 and x2\n",
    "        else:\n",
    "            #Add a replicates AF for all treated conditions to array2 for generation 1->7\n",
    "            array2.append(column[i])\n",
    "            x2.append(xs[i//2])"
   ]
  },
  {
   "cell_type": "code",
   "execution_count": 45,
   "metadata": {},
   "outputs": [
    {
     "data": {
      "text/plain": [
       "4"
      ]
     },
     "execution_count": 45,
     "metadata": {},
     "output_type": "execute_result"
    }
   ],
   "source": [
    "8//2"
   ]
  },
  {
   "cell_type": "code",
   "execution_count": 17,
   "metadata": {},
   "outputs": [
    {
     "name": "stdout",
     "output_type": "stream",
     "text": [
      "[0.501813784764208, 0.505882352941176, 0.533529411764705, 0.553980825343893]\n",
      "[0.576681614349775, 0.526522593320235, 0.507593924860111, 0.515116942384483]\n"
     ]
    }
   ],
   "source": [
    "print(array1)\n",
    "print(array2)"
   ]
  },
  {
   "cell_type": "code",
   "execution_count": 18,
   "metadata": {},
   "outputs": [
    {
     "name": "stdout",
     "output_type": "stream",
     "text": [
      "[0, 2, 4, 6]\n",
      "[0, 2, 4, 6]\n",
      "[[0, 2, 4, 6], [0, 2, 4, 6]]\n"
     ]
    }
   ],
   "source": [
    "print(x1)\n",
    "print(x2)\n",
    "xs = [x1,x2]\n",
    "print(xs)\n"
   ]
  },
  {
   "cell_type": "code",
   "execution_count": 19,
   "metadata": {},
   "outputs": [
    {
     "name": "stdout",
     "output_type": "stream",
     "text": [
      "[0 2 4 6]\n",
      "[[0]\n",
      " [2]\n",
      " [4]\n",
      " [6]]\n",
      "[0 2 4 6]\n",
      "[[0]\n",
      " [2]\n",
      " [4]\n",
      " [6]]\n"
     ]
    }
   ],
   "source": [
    "for i,x in enumerate(xs):\n",
    "    xs[i] = np.array(xs[i])\n",
    "    print(xs[i])\n",
    "    xs[i] = xs[i][:,np.newaxis]\n",
    "    print(xs[i])\n"
   ]
  },
  {
   "cell_type": "code",
   "execution_count": 20,
   "metadata": {},
   "outputs": [
    {
     "name": "stdout",
     "output_type": "stream",
     "text": [
      "[[0.501813784764208, 0.505882352941176, 0.533529411764705, 0.553980825343893], [0.576681614349775, 0.526522593320235, 0.507593924860111, 0.515116942384483]]\n"
     ]
    }
   ],
   "source": [
    "arrays = [array1,array2]\n",
    "print(arrays)"
   ]
  },
  {
   "cell_type": "code",
   "execution_count": 21,
   "metadata": {},
   "outputs": [],
   "source": [
    "fitness = []"
   ]
  },
  {
   "attachments": {},
   "cell_type": "markdown",
   "metadata": {},
   "source": [
    "Fitness cal for a single element in the array"
   ]
  },
  {
   "cell_type": "code",
   "execution_count": 22,
   "metadata": {},
   "outputs": [
    {
     "name": "stdout",
     "output_type": "stream",
     "text": [
      "[0.501813784764208, 0.505882352941176, 0.533529411764705, 0.553980825343893]\n"
     ]
    }
   ],
   "source": [
    "#for i,array in enumerate(arrays):\n",
    "#    print(array)\n",
    "ex_array = arrays[0]\n",
    "print(ex_array)\n"
   ]
  },
  {
   "cell_type": "code",
   "execution_count": 23,
   "metadata": {},
   "outputs": [],
   "source": [
    "ys = []"
   ]
  },
  {
   "cell_type": "code",
   "execution_count": 24,
   "metadata": {},
   "outputs": [],
   "source": [
    "for point in ex_array:            \n",
    "                first_point = ex_array[0]\n",
    "                y = np.log10((first_point/point - first_point)/(1-first_point))\n",
    "                ys.append(y)"
   ]
  },
  {
   "cell_type": "code",
   "execution_count": 63,
   "metadata": {},
   "outputs": [
    {
     "name": "stdout",
     "output_type": "stream",
     "text": [
      "[0.0, -0.007068284502727101, -0.05518321906353173, -0.09099032257856374]\n"
     ]
    }
   ],
   "source": [
    "print(ys)"
   ]
  },
  {
   "cell_type": "code",
   "execution_count": 25,
   "metadata": {},
   "outputs": [
    {
     "name": "stdout",
     "output_type": "stream",
     "text": [
      "(array([-0.01394306]), array([7.48331477]), array([7.48331477]), array([7.48331477]))\n"
     ]
    },
    {
     "name": "stderr",
     "output_type": "stream",
     "text": [
      "/var/folders/h4/rcl4wl655lb_99254fkp0_6r0000gn/T/ipykernel_35656/2477271447.py:2: FutureWarning: `rcond` parameter will change to the default of machine precision times ``max(M, N)`` where M and N are the input matrix dimensions.\n",
      "To use the future default and silence this warning we advise to pass `rcond=None`, to keep using the old, explicitly pass `rcond=-1`.\n",
      "  (a, _, _, _) = np.linalg.lstsq(xs[i], ys)\n"
     ]
    }
   ],
   "source": [
    "ys = np.array(ys)\n",
    "(a, _, _, _) = np.linalg.lstsq(xs[i], ys)\n",
    "print((a, _, _, _))"
   ]
  },
  {
   "cell_type": "code",
   "execution_count": 26,
   "metadata": {},
   "outputs": [
    {
     "name": "stderr",
     "output_type": "stream",
     "text": [
      "/var/folders/h4/rcl4wl655lb_99254fkp0_6r0000gn/T/ipykernel_35656/737842882.py:1: FutureWarning: `rcond` parameter will change to the default of machine precision times ``max(M, N)`` where M and N are the input matrix dimensions.\n",
      "To use the future default and silence this warning we advise to pass `rcond=None`, to keep using the old, explicitly pass `rcond=-1`.\n",
      "  np.linalg.lstsq(xs[i], ys)\n"
     ]
    },
    {
     "data": {
      "text/plain": [
       "(array([-0.01394306]), array([0.00048749]), 1, array([7.48331477]))"
      ]
     },
     "execution_count": 26,
     "metadata": {},
     "output_type": "execute_result"
    }
   ],
   "source": [
    "np.linalg.lstsq(xs[i], ys)"
   ]
  },
  {
   "cell_type": "code",
   "execution_count": 75,
   "metadata": {},
   "outputs": [],
   "source": [
    "fitness.append(np.log2(1/np.power(10,a[0])))"
   ]
  },
  {
   "cell_type": "code",
   "execution_count": 76,
   "metadata": {},
   "outputs": [
    {
     "name": "stdout",
     "output_type": "stream",
     "text": [
      "[0.04631784397246407]\n"
     ]
    }
   ],
   "source": [
    "print(fitness)"
   ]
  }
 ],
 "metadata": {
  "kernelspec": {
   "display_name": "Python 3",
   "language": "python",
   "name": "python3"
  },
  "language_info": {
   "codemirror_mode": {
    "name": "ipython",
    "version": 3
   },
   "file_extension": ".py",
   "mimetype": "text/x-python",
   "name": "python",
   "nbconvert_exporter": "python",
   "pygments_lexer": "ipython3",
   "version": "3.10.9"
  },
  "orig_nbformat": 4
 },
 "nbformat": 4,
 "nbformat_minor": 2
}
